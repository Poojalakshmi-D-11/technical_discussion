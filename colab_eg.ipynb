{
  "nbformat": 4,
  "nbformat_minor": 0,
  "metadata": {
    "colab": {
      "provenance": [],
      "authorship_tag": "ABX9TyNGcqER+DJRScPCzLvAUZA0",
      "include_colab_link": true
    },
    "kernelspec": {
      "name": "python3",
      "display_name": "Python 3"
    },
    "language_info": {
      "name": "python"
    }
  },
  "cells": [
    {
      "cell_type": "markdown",
      "metadata": {
        "id": "view-in-github",
        "colab_type": "text"
      },
      "source": [
        "<a href=\"https://colab.research.google.com/github/Poojalakshmi-D-11/technical_discussion/blob/main/Untitled0.ipynb\" target=\"_parent\"><img src=\"https://colab.research.google.com/assets/colab-badge.svg\" alt=\"Open In Colab\"/></a>"
      ]
    },
    {
      "cell_type": "code",
      "execution_count": 1,
      "metadata": {
        "colab": {
          "base_uri": "https://localhost:8080/"
        },
        "id": "1RDgz-WUnV45",
        "outputId": "7388a52b-7e00-417a-9dcd-2d7c4fbb9b5f"
      },
      "outputs": [
        {
          "output_type": "stream",
          "name": "stdout",
          "text": [
            "hi\n"
          ]
        }
      ],
      "source": [
        "def colab_eg():\n",
        "  return \"hi\"\n",
        "print(colab_eg())\n"
      ]
    },
    {
      "cell_type": "markdown",
      "source": [
        "# Colab example\n",
        "* one\n",
        "* two\n"
      ],
      "metadata": {
        "id": "7l11ppsFnkGN"
      }
    }
  ]
}
